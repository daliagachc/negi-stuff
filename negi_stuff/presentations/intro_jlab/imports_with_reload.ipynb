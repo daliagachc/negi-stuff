{
 "cells": [
  {
   "cell_type": "code",
   "execution_count": null,
   "metadata": {},
   "outputs": [],
   "source": [
    "import pandas as pd\n",
    "import numpy as np\n",
    "import xarray as xr\n",
    "import negi_stuff.modules.zarray as za\n",
    "import matplotlib as mpl\n",
    "import matplotlib.pyplot as plt\n",
    "import seaborn as sns\n",
    "import importlib as il\n",
    "import os\n",
    "import glob\n",
    "import datetime as dt\n",
    "import sys\n",
    "import cartopy as crt\n",
    "import random\n",
    "\n",
    "# def load_and_reload():\n",
    "#     '''\n",
    "#     the code below automatically reload modules that\n",
    "#     have being changed when you run any cell.\n",
    "#     If you want to call in directly from a notebook you\n",
    "#     can use:\n",
    "#     Example\n",
    "#     ---\n",
    "#     >>> %load_ext autoreload\n",
    "#     >>> %autoreload 2\n",
    "#     '''\n",
    "#     from IPython import get_ipython\n",
    "\n",
    "#     try:\n",
    "#         _ipython = get_ipython()\n",
    "#         _ipython.magic('load_ext autoreload')\n",
    "#         _ipython.magic('autoreload 2')\n",
    "#     except:\n",
    "#         # in case we are running a script\n",
    "#         pass\n",
    "\n",
    "\n",
    "# load_and_reload()"
   ]
  }
 ],
 "metadata": {
  "jupytext": {
   "text_representation": {
    "extension": ".py",
    "format_name": "percent",
    "format_version": "1.2",
    "jupytext_version": "1.2.3"
   }
  },
  "kernelspec": {
   "display_name": "Python 3",
   "language": "python",
   "name": "python3"
  },
  "language_info": {
   "codemirror_mode": {
    "name": "ipython",
    "version": 3
   },
   "file_extension": ".py",
   "mimetype": "text/x-python",
   "name": "python",
   "nbconvert_exporter": "python",
   "pygments_lexer": "ipython3",
   "version": "3.6.7"
  }
 },
 "nbformat": 4,
 "nbformat_minor": 2
}

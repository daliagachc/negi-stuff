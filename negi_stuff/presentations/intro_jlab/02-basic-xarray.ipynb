{
 "cells": [
  {
   "cell_type": "markdown",
   "metadata": {},
   "source": [
    "## Lets start:\n",
    "### Reading in the data:\n",
    "We use xarray here, but you can also use e.g. iris or even pyaerocom"
   ]
  },
  {
   "cell_type": "code",
   "execution_count": 4,
   "metadata": {},
   "outputs": [],
   "source": [
    "import xarray as xr\n",
    "import numpy as np\n",
    "import matplotlib.pyplot as plt\n",
    "\n",
    "path='../../data_sample/wrf_out.small.h5'\n",
    "ds = xr.open_dataset(path)"
   ]
  },
  {
   "cell_type": "markdown",
   "metadata": {},
   "source": [
    "Check how your dataset looks"
   ]
  },
  {
   "cell_type": "code",
   "execution_count": 5,
   "metadata": {},
   "outputs": [
    {
     "data": {
      "text/plain": [
       "<xarray.Dataset>\n",
       "Dimensions:  (XTIME: 1449, bottom_top: 10, south_north: 17, west_east: 23)\n",
       "Coordinates:\n",
       "    XLAT     (south_north, west_east) float32 ...\n",
       "    XLONG    (south_north, west_east) float32 ...\n",
       "  * XTIME    (XTIME) datetime64[ns] 2017-12-02 ... 2018-06-01\n",
       "Dimensions without coordinates: bottom_top, south_north, west_east\n",
       "Data variables:\n",
       "    P        (XTIME, bottom_top, south_north, west_east) float32 ...\n",
       "    V        (XTIME, bottom_top, south_north, west_east) float32 ...\n",
       "    U        (XTIME, bottom_top, south_north, west_east) float32 ...\n",
       "    T        (XTIME, bottom_top, south_north, west_east) float32 ..."
      ]
     },
     "execution_count": 5,
     "metadata": {},
     "output_type": "execute_result"
    }
   ],
   "source": [
    "#lets check how the dataset looks like\n",
    "ds"
   ]
  },
  {
   "cell_type": "markdown",
   "metadata": {},
   "source": [
    "Assign attributes! Nice for plotting and to keep track of what is in your dataset (especially 'units' and 'standard_name'/'long_name' will be looked for by xarray."
   ]
  },
  {
   "cell_type": "markdown",
   "metadata": {},
   "source": [
    "**Check the attributes! Can be useful info here:**"
   ]
  },
  {
   "cell_type": "code",
   "execution_count": 7,
   "metadata": {},
   "outputs": [
    {
     "data": {
      "text/plain": [
       "<xarray.DataArray 'XTIME' (XTIME: 1449)>\n",
       "array(['2017-12-02T00:00:00.000000000', '2017-12-02T03:00:00.000000000',\n",
       "       '2017-12-02T06:00:00.000000000', ..., '2018-05-31T18:00:00.000000000',\n",
       "       '2018-05-31T21:00:00.000000000', '2018-06-01T00:00:00.000000000'],\n",
       "      dtype='datetime64[ns]')\n",
       "Coordinates:\n",
       "  * XTIME    (XTIME) datetime64[ns] 2017-12-02 ... 2018-06-01\n",
       "Attributes:\n",
       "    FieldType:    104\n",
       "    MemoryOrder:  0  \n",
       "    description:  minutes since 2017-12-02 00:00:00\n",
       "    stagger:      "
      ]
     },
     "execution_count": 7,
     "metadata": {},
     "output_type": "execute_result"
    }
   ],
   "source": [
    "ds['XTIME']"
   ]
  },
  {
   "cell_type": "code",
   "execution_count": 6,
   "metadata": {},
   "outputs": [],
   "source": [
    "# lets process potential temperature into C\n",
    "ds['T_C'] = ds['T'] + 300 - 273\n",
    "ds['T_C'] = ds['T_C'].assign_attrs({'units': 'C'})"
   ]
  },
  {
   "cell_type": "markdown",
   "metadata": {},
   "source": [
    "Easier to type if we define some names:"
   ]
  },
  {
   "cell_type": "code",
   "execution_count": null,
   "metadata": {},
   "outputs": [],
   "source": [
    "#lets define some constants for the variable names so that calling them is easier.\n",
    "ilev  = 'bottom_top'\n",
    "SN  = 'south_north'\n",
    "WE  = 'west_east'\n",
    "XT  = 'XTIME'\n",
    "lat = 'XLAT'\n",
    "lon = 'XLONG'\n",
    "P, V, U, T = 'P','V','U','T'\n",
    "\n",
    "#this is potential temperature in C\n",
    "T_C = 'T_C'"
   ]
  },
  {
   "cell_type": "markdown",
   "metadata": {},
   "source": [
    "## Plotting"
   ]
  },
  {
   "cell_type": "code",
   "execution_count": null,
   "metadata": {},
   "outputs": [],
   "source": [
    "# lets do a basic plot of T_C\n",
    "ds[T_C][{XT:0, ilev:0}].plot(x=lon, y=lat)"
   ]
  },
  {
   "cell_type": "code",
   "execution_count": null,
   "metadata": {},
   "outputs": [],
   "source": [
    "# lets do a basic plot of P\n",
    "ds[P][{XT:0, ilev:0}].plot(x=lon, y=lat)"
   ]
  },
  {
   "cell_type": "code",
   "execution_count": null,
   "metadata": {},
   "outputs": [],
   "source": [
    "\n",
    "\n",
    "# lets plot the wind fields\n",
    "_ds = ds[[V,U]][{ilev:0}]\n",
    "_ds1 = np.sqrt(_ds[V]**2 + _ds[U]**2)\n",
    "f,ax = plt.subplots()\n",
    "_dm = _ds1.mean(XT)\n",
    "_dm.plot.pcolormesh(cmap = plt.get_cmap('Reds'),ax=ax,cbar_kwargs={'label':'Wind Speed [m/s]'})\n",
    "ax.set_title('ilev:0; Mean over Time')"
   ]
  },
  {
   "cell_type": "markdown",
   "metadata": {},
   "source": [
    "#### Plotting with cartopy"
   ]
  },
  {
   "cell_type": "code",
   "execution_count": 8,
   "metadata": {},
   "outputs": [],
   "source": [
    "import cartopy as cy"
   ]
  },
  {
   "cell_type": "code",
   "execution_count": null,
   "metadata": {},
   "outputs": [],
   "source": [
    "f,ax = plt.subplots(subplot_kw={'projection':cy.crs.PlateCarree()})\n",
    "_ds = ds[[V,U]][{ilev:0}]\n",
    "_ds1 = np.sqrt(_ds[V]**2 + _ds[U]**2)\n",
    "_dm = _ds1.mean(XT)\n",
    "_dm.plot.pcolormesh(\n",
    "    cmap = plt.get_cmap('Reds'),ax=ax,cbar_kwargs={'label':'Wind Speed [m/s]'},\n",
    "    transform=cy.crs.PlateCarree(), x=lon,y=lat,\n",
    "    levels = 6\n",
    ")\n",
    "ax.set_title('ilev:0; Mean over Time')\n",
    "ax.coastlines()\n",
    "\n",
    "gl = ax.gridlines(draw_labels=True)\n",
    "gl.xlabels_top = False\n",
    "gl.ylabels_right = False\n",
    "\n",
    "ax.add_feature(cy.feature.BORDERS);"
   ]
  },
  {
   "cell_type": "code",
   "execution_count": null,
   "metadata": {
    "lines_to_next_cell": 2
   },
   "outputs": [],
   "source": [
    "# f,ax = plt.subplots(subplot_kw={'projection':cy.crs.PlateCarree()})\n",
    "_ds = ds[[V,U]][{ilev:slice(None, None, 2)}]\n",
    "_ds1 = np.sqrt(_ds[V]**2 + _ds[U]**2)\n",
    "_dm = _ds1.mean(XT)\n",
    "p = _dm.plot.pcolormesh(\n",
    "    cmap = plt.get_cmap('Reds'),cbar_kwargs={'label':'Wind Speed [m/s]'},\n",
    "    transform=cy.crs.PlateCarree(), x=lon,y=lat,\n",
    "    levels = 6,\n",
    "    col=ilev,\n",
    "    col_wrap = 3,\n",
    "    subplot_kws={'projection':cy.crs.PlateCarree(),},\n",
    "    add_colorbar = False,\n",
    "    size=2,\n",
    "    aspect = 1.7\n",
    ")\n",
    "for ax in p.axes.flatten():\n",
    "#     ax.set_title('ilev:0; Mean over Time')\n",
    "    ax.coastlines()\n",
    "\n",
    "    gl = ax.gridlines(draw_labels=True)\n",
    "    gl.xlabels_top = False\n",
    "    gl.ylabels_right = False\n",
    "\n",
    "    ax.add_feature(cy.feature.BORDERS)\n",
    "    ax.set_xlim(-90,-40)\n",
    "    ax.set_ylim(-32,2)\n",
    "p.fig.canvas.draw()\n",
    "p.fig.tight_layout()\n",
    "p.add_colorbar(label='Wind Speed [m/s]');"
   ]
  },
  {
   "cell_type": "code",
   "execution_count": null,
   "metadata": {},
   "outputs": [],
   "source": []
  }
 ],
 "metadata": {
  "jupytext": {
   "text_representation": {
    "extension": ".py",
    "format_name": "percent",
    "format_version": "1.2",
    "jupytext_version": "1.2.4"
   }
  },
  "kernelspec": {
   "display_name": "Python 3",
   "language": "python",
   "name": "python3"
  },
  "language_info": {
   "codemirror_mode": {
    "name": "ipython",
    "version": 3
   },
   "file_extension": ".py",
   "mimetype": "text/x-python",
   "name": "python",
   "nbconvert_exporter": "python",
   "pygments_lexer": "ipython3",
   "version": "3.6.7"
  }
 },
 "nbformat": 4,
 "nbformat_minor": 4
}
